{
  "nbformat": 4,
  "nbformat_minor": 0,
  "metadata": {
    "colab": {
      "name": "Stock_Price_Prediction(Data Science).ipynb",
      "provenance": []
    },
    "kernelspec": {
      "name": "python3",
      "display_name": "Python 3"
    }
  },
  "cells": [
    {
      "cell_type": "code",
      "metadata": {
        "id": "RNDkNO3voUTs"
      },
      "source": [
        "import numpy as np\r\n",
        "import pandas as pd\r\n",
        "import seaborn as sns"
      ],
      "execution_count": 1,
      "outputs": []
    },
    {
      "cell_type": "code",
      "metadata": {
        "id": "5-boJhL5M7rz"
      },
      "source": [
        "data = pd.read_csv(\"AAPL.csv\")"
      ],
      "execution_count": 3,
      "outputs": []
    },
    {
      "cell_type": "code",
      "metadata": {
        "colab": {
          "base_uri": "https://localhost:8080/",
          "height": 204
        },
        "id": "JXbSmsdENMJS",
        "outputId": "b38d2c44-5e81-4bd1-e16f-4bb7525acd87"
      },
      "source": [
        "data.head()"
      ],
      "execution_count": 4,
      "outputs": [
        {
          "output_type": "execute_result",
          "data": {
            "text/html": [
              "<div>\n",
              "<style scoped>\n",
              "    .dataframe tbody tr th:only-of-type {\n",
              "        vertical-align: middle;\n",
              "    }\n",
              "\n",
              "    .dataframe tbody tr th {\n",
              "        vertical-align: top;\n",
              "    }\n",
              "\n",
              "    .dataframe thead th {\n",
              "        text-align: right;\n",
              "    }\n",
              "</style>\n",
              "<table border=\"1\" class=\"dataframe\">\n",
              "  <thead>\n",
              "    <tr style=\"text-align: right;\">\n",
              "      <th></th>\n",
              "      <th>Date</th>\n",
              "      <th>Open</th>\n",
              "      <th>High</th>\n",
              "      <th>Low</th>\n",
              "      <th>Close</th>\n",
              "      <th>Volume</th>\n",
              "      <th>Dividend</th>\n",
              "      <th>Split</th>\n",
              "      <th>Adj_Open</th>\n",
              "      <th>Adj_High</th>\n",
              "      <th>Adj_Low</th>\n",
              "      <th>Adj_Close</th>\n",
              "      <th>Adj_Volume</th>\n",
              "    </tr>\n",
              "  </thead>\n",
              "  <tbody>\n",
              "    <tr>\n",
              "      <th>0</th>\n",
              "      <td>2017-12-28</td>\n",
              "      <td>171.00</td>\n",
              "      <td>171.850</td>\n",
              "      <td>170.480</td>\n",
              "      <td>171.08</td>\n",
              "      <td>16480187.0</td>\n",
              "      <td>0.0</td>\n",
              "      <td>1.0</td>\n",
              "      <td>41.136972</td>\n",
              "      <td>41.341454</td>\n",
              "      <td>41.011877</td>\n",
              "      <td>41.156217</td>\n",
              "      <td>65920748.0</td>\n",
              "    </tr>\n",
              "    <tr>\n",
              "      <th>1</th>\n",
              "      <td>2017-12-27</td>\n",
              "      <td>170.10</td>\n",
              "      <td>170.780</td>\n",
              "      <td>169.710</td>\n",
              "      <td>170.60</td>\n",
              "      <td>21498213.0</td>\n",
              "      <td>0.0</td>\n",
              "      <td>1.0</td>\n",
              "      <td>40.920461</td>\n",
              "      <td>41.084047</td>\n",
              "      <td>40.826640</td>\n",
              "      <td>41.040745</td>\n",
              "      <td>85992852.0</td>\n",
              "    </tr>\n",
              "    <tr>\n",
              "      <th>2</th>\n",
              "      <td>2017-12-26</td>\n",
              "      <td>170.80</td>\n",
              "      <td>171.470</td>\n",
              "      <td>169.679</td>\n",
              "      <td>170.57</td>\n",
              "      <td>33185536.0</td>\n",
              "      <td>0.0</td>\n",
              "      <td>1.0</td>\n",
              "      <td>41.088858</td>\n",
              "      <td>41.250038</td>\n",
              "      <td>40.819183</td>\n",
              "      <td>41.033528</td>\n",
              "      <td>132742144.0</td>\n",
              "    </tr>\n",
              "    <tr>\n",
              "      <th>3</th>\n",
              "      <td>2017-12-22</td>\n",
              "      <td>174.68</td>\n",
              "      <td>175.424</td>\n",
              "      <td>174.500</td>\n",
              "      <td>175.01</td>\n",
              "      <td>16349444.0</td>\n",
              "      <td>0.0</td>\n",
              "      <td>1.0</td>\n",
              "      <td>42.022259</td>\n",
              "      <td>42.201241</td>\n",
              "      <td>41.978957</td>\n",
              "      <td>42.101646</td>\n",
              "      <td>65397776.0</td>\n",
              "    </tr>\n",
              "    <tr>\n",
              "      <th>4</th>\n",
              "      <td>2017-12-21</td>\n",
              "      <td>174.17</td>\n",
              "      <td>176.020</td>\n",
              "      <td>174.100</td>\n",
              "      <td>175.01</td>\n",
              "      <td>20949896.0</td>\n",
              "      <td>0.0</td>\n",
              "      <td>1.0</td>\n",
              "      <td>41.899570</td>\n",
              "      <td>42.344619</td>\n",
              "      <td>41.882730</td>\n",
              "      <td>42.101646</td>\n",
              "      <td>83799584.0</td>\n",
              "    </tr>\n",
              "  </tbody>\n",
              "</table>\n",
              "</div>"
            ],
            "text/plain": [
              "         Date    Open     High  ...    Adj_Low  Adj_Close   Adj_Volume\n",
              "0  2017-12-28  171.00  171.850  ...  41.011877  41.156217   65920748.0\n",
              "1  2017-12-27  170.10  170.780  ...  40.826640  41.040745   85992852.0\n",
              "2  2017-12-26  170.80  171.470  ...  40.819183  41.033528  132742144.0\n",
              "3  2017-12-22  174.68  175.424  ...  41.978957  42.101646   65397776.0\n",
              "4  2017-12-21  174.17  176.020  ...  41.882730  42.101646   83799584.0\n",
              "\n",
              "[5 rows x 13 columns]"
            ]
          },
          "metadata": {
            "tags": []
          },
          "execution_count": 4
        }
      ]
    },
    {
      "cell_type": "code",
      "metadata": {
        "colab": {
          "base_uri": "https://localhost:8080/",
          "height": 204
        },
        "id": "9Ju-IstxNjtf",
        "outputId": "4e5cef5d-ca2c-49db-b3ef-7549eeabe59b"
      },
      "source": [
        "data.tail()"
      ],
      "execution_count": 5,
      "outputs": [
        {
          "output_type": "execute_result",
          "data": {
            "text/html": [
              "<div>\n",
              "<style scoped>\n",
              "    .dataframe tbody tr th:only-of-type {\n",
              "        vertical-align: middle;\n",
              "    }\n",
              "\n",
              "    .dataframe tbody tr th {\n",
              "        vertical-align: top;\n",
              "    }\n",
              "\n",
              "    .dataframe thead th {\n",
              "        text-align: right;\n",
              "    }\n",
              "</style>\n",
              "<table border=\"1\" class=\"dataframe\">\n",
              "  <thead>\n",
              "    <tr style=\"text-align: right;\">\n",
              "      <th></th>\n",
              "      <th>Date</th>\n",
              "      <th>Open</th>\n",
              "      <th>High</th>\n",
              "      <th>Low</th>\n",
              "      <th>Close</th>\n",
              "      <th>Volume</th>\n",
              "      <th>Dividend</th>\n",
              "      <th>Split</th>\n",
              "      <th>Adj_Open</th>\n",
              "      <th>Adj_High</th>\n",
              "      <th>Adj_Low</th>\n",
              "      <th>Adj_Close</th>\n",
              "      <th>Adj_Volume</th>\n",
              "    </tr>\n",
              "  </thead>\n",
              "  <tbody>\n",
              "    <tr>\n",
              "      <th>1085</th>\n",
              "      <td>2013-09-09</td>\n",
              "      <td>505.00</td>\n",
              "      <td>507.92</td>\n",
              "      <td>503.48</td>\n",
              "      <td>506.170</td>\n",
              "      <td>12167400.0</td>\n",
              "      <td>0.0</td>\n",
              "      <td>1.0</td>\n",
              "      <td>15.996600</td>\n",
              "      <td>16.089095</td>\n",
              "      <td>15.948451</td>\n",
              "      <td>16.033661</td>\n",
              "      <td>340687200.0</td>\n",
              "    </tr>\n",
              "    <tr>\n",
              "      <th>1086</th>\n",
              "      <td>2013-09-06</td>\n",
              "      <td>498.44</td>\n",
              "      <td>499.38</td>\n",
              "      <td>489.95</td>\n",
              "      <td>498.220</td>\n",
              "      <td>12840200.0</td>\n",
              "      <td>0.0</td>\n",
              "      <td>1.0</td>\n",
              "      <td>15.788802</td>\n",
              "      <td>15.818578</td>\n",
              "      <td>15.519869</td>\n",
              "      <td>15.781833</td>\n",
              "      <td>359525600.0</td>\n",
              "    </tr>\n",
              "    <tr>\n",
              "      <th>1087</th>\n",
              "      <td>2013-09-05</td>\n",
              "      <td>500.25</td>\n",
              "      <td>500.68</td>\n",
              "      <td>493.64</td>\n",
              "      <td>495.270</td>\n",
              "      <td>8441700.0</td>\n",
              "      <td>0.0</td>\n",
              "      <td>1.0</td>\n",
              "      <td>15.846136</td>\n",
              "      <td>15.859757</td>\n",
              "      <td>15.636755</td>\n",
              "      <td>15.688388</td>\n",
              "      <td>236367600.0</td>\n",
              "    </tr>\n",
              "    <tr>\n",
              "      <th>1088</th>\n",
              "      <td>2013-09-04</td>\n",
              "      <td>499.56</td>\n",
              "      <td>502.24</td>\n",
              "      <td>496.28</td>\n",
              "      <td>498.691</td>\n",
              "      <td>12322600.0</td>\n",
              "      <td>0.0</td>\n",
              "      <td>1.0</td>\n",
              "      <td>15.824280</td>\n",
              "      <td>15.909173</td>\n",
              "      <td>15.720381</td>\n",
              "      <td>15.796753</td>\n",
              "      <td>345032800.0</td>\n",
              "    </tr>\n",
              "    <tr>\n",
              "      <th>1089</th>\n",
              "      <td>2013-09-03</td>\n",
              "      <td>493.10</td>\n",
              "      <td>500.60</td>\n",
              "      <td>487.35</td>\n",
              "      <td>488.580</td>\n",
              "      <td>11854600.0</td>\n",
              "      <td>0.0</td>\n",
              "      <td>1.0</td>\n",
              "      <td>15.619650</td>\n",
              "      <td>15.857223</td>\n",
              "      <td>15.437510</td>\n",
              "      <td>15.476472</td>\n",
              "      <td>331928800.0</td>\n",
              "    </tr>\n",
              "  </tbody>\n",
              "</table>\n",
              "</div>"
            ],
            "text/plain": [
              "            Date    Open    High  ...    Adj_Low  Adj_Close   Adj_Volume\n",
              "1085  2013-09-09  505.00  507.92  ...  15.948451  16.033661  340687200.0\n",
              "1086  2013-09-06  498.44  499.38  ...  15.519869  15.781833  359525600.0\n",
              "1087  2013-09-05  500.25  500.68  ...  15.636755  15.688388  236367600.0\n",
              "1088  2013-09-04  499.56  502.24  ...  15.720381  15.796753  345032800.0\n",
              "1089  2013-09-03  493.10  500.60  ...  15.437510  15.476472  331928800.0\n",
              "\n",
              "[5 rows x 13 columns]"
            ]
          },
          "metadata": {
            "tags": []
          },
          "execution_count": 5
        }
      ]
    },
    {
      "cell_type": "code",
      "metadata": {
        "colab": {
          "base_uri": "https://localhost:8080/"
        },
        "id": "ZyhNrV4qNpV3",
        "outputId": "a4b9b6ed-5452-4777-ab49-634fb2e9ce5c"
      },
      "source": [
        "data.describe"
      ],
      "execution_count": 6,
      "outputs": [
        {
          "output_type": "execute_result",
          "data": {
            "text/plain": [
              "<bound method NDFrame.describe of             Date    Open     High  ...    Adj_Low  Adj_Close   Adj_Volume\n",
              "0     2017-12-28  171.00  171.850  ...  41.011877  41.156217   65920748.0\n",
              "1     2017-12-27  170.10  170.780  ...  40.826640  41.040745   85992852.0\n",
              "2     2017-12-26  170.80  171.470  ...  40.819183  41.033528  132742144.0\n",
              "3     2017-12-22  174.68  175.424  ...  41.978957  42.101646   65397776.0\n",
              "4     2017-12-21  174.17  176.020  ...  41.882730  42.101646   83799584.0\n",
              "...          ...     ...      ...  ...        ...        ...          ...\n",
              "1085  2013-09-09  505.00  507.920  ...  15.948451  16.033661  340687200.0\n",
              "1086  2013-09-06  498.44  499.380  ...  15.519869  15.781833  359525600.0\n",
              "1087  2013-09-05  500.25  500.680  ...  15.636755  15.688388  236367600.0\n",
              "1088  2013-09-04  499.56  502.240  ...  15.720381  15.796753  345032800.0\n",
              "1089  2013-09-03  493.10  500.600  ...  15.437510  15.476472  331928800.0\n",
              "\n",
              "[1090 rows x 13 columns]>"
            ]
          },
          "metadata": {
            "tags": []
          },
          "execution_count": 6
        }
      ]
    },
    {
      "cell_type": "code",
      "metadata": {
        "colab": {
          "base_uri": "https://localhost:8080/"
        },
        "id": "Xcu4UlfJRERq",
        "outputId": "4780e50c-4c63-4e2e-cdc5-7b8e8ad2f4e3"
      },
      "source": [
        "data.info()"
      ],
      "execution_count": 7,
      "outputs": [
        {
          "output_type": "stream",
          "text": [
            "<class 'pandas.core.frame.DataFrame'>\n",
            "RangeIndex: 1090 entries, 0 to 1089\n",
            "Data columns (total 13 columns):\n",
            " #   Column      Non-Null Count  Dtype  \n",
            "---  ------      --------------  -----  \n",
            " 0   Date        1090 non-null   object \n",
            " 1   Open        1090 non-null   float64\n",
            " 2   High        1090 non-null   float64\n",
            " 3   Low         1090 non-null   float64\n",
            " 4   Close       1090 non-null   float64\n",
            " 5   Volume      1090 non-null   float64\n",
            " 6   Dividend    1090 non-null   float64\n",
            " 7   Split       1090 non-null   float64\n",
            " 8   Adj_Open    1090 non-null   float64\n",
            " 9   Adj_High    1090 non-null   float64\n",
            " 10  Adj_Low     1090 non-null   float64\n",
            " 11  Adj_Close   1090 non-null   float64\n",
            " 12  Adj_Volume  1090 non-null   float64\n",
            "dtypes: float64(12), object(1)\n",
            "memory usage: 110.8+ KB\n"
          ],
          "name": "stdout"
        }
      ]
    },
    {
      "cell_type": "code",
      "metadata": {
        "colab": {
          "base_uri": "https://localhost:8080/"
        },
        "id": "x7xnkZScRQGq",
        "outputId": "0c4150a1-1997-4316-aa55-a7ba895a6373"
      },
      "source": [
        "data.isnull().sum()"
      ],
      "execution_count": 8,
      "outputs": [
        {
          "output_type": "execute_result",
          "data": {
            "text/plain": [
              "Date          0\n",
              "Open          0\n",
              "High          0\n",
              "Low           0\n",
              "Close         0\n",
              "Volume        0\n",
              "Dividend      0\n",
              "Split         0\n",
              "Adj_Open      0\n",
              "Adj_High      0\n",
              "Adj_Low       0\n",
              "Adj_Close     0\n",
              "Adj_Volume    0\n",
              "dtype: int64"
            ]
          },
          "metadata": {
            "tags": []
          },
          "execution_count": 8
        }
      ]
    },
    {
      "cell_type": "code",
      "metadata": {
        "colab": {
          "base_uri": "https://localhost:8080/"
        },
        "id": "iEyv3w-CRWFR",
        "outputId": "e313e573-6d21-454e-aac9-5bf7c91507d0"
      },
      "source": [
        "data.shape"
      ],
      "execution_count": 9,
      "outputs": [
        {
          "output_type": "execute_result",
          "data": {
            "text/plain": [
              "(1090, 13)"
            ]
          },
          "metadata": {
            "tags": []
          },
          "execution_count": 9
        }
      ]
    },
    {
      "cell_type": "code",
      "metadata": {
        "colab": {
          "base_uri": "https://localhost:8080/"
        },
        "id": "uHAoyWFRRYdJ",
        "outputId": "2c7e5403-f12a-4d9f-fe6f-2c47e28c5114"
      },
      "source": [
        "data.columns"
      ],
      "execution_count": 10,
      "outputs": [
        {
          "output_type": "execute_result",
          "data": {
            "text/plain": [
              "Index(['Date', 'Open', 'High', 'Low', 'Close', 'Volume', 'Dividend', 'Split',\n",
              "       'Adj_Open', 'Adj_High', 'Adj_Low', 'Adj_Close', 'Adj_Volume'],\n",
              "      dtype='object')"
            ]
          },
          "metadata": {
            "tags": []
          },
          "execution_count": 10
        }
      ]
    },
    {
      "cell_type": "code",
      "metadata": {
        "id": "sDtAl6c-RbDb"
      },
      "source": [
        "df1 = pd.DataFrame(data)"
      ],
      "execution_count": 11,
      "outputs": []
    },
    {
      "cell_type": "code",
      "metadata": {
        "colab": {
          "base_uri": "https://localhost:8080/",
          "height": 419
        },
        "id": "o5RUzZTPRfDg",
        "outputId": "dc2a5f63-bddb-4dfe-ec07-d1f931ff8c20"
      },
      "source": [
        "\r\n",
        "df1"
      ],
      "execution_count": 12,
      "outputs": [
        {
          "output_type": "execute_result",
          "data": {
            "text/html": [
              "<div>\n",
              "<style scoped>\n",
              "    .dataframe tbody tr th:only-of-type {\n",
              "        vertical-align: middle;\n",
              "    }\n",
              "\n",
              "    .dataframe tbody tr th {\n",
              "        vertical-align: top;\n",
              "    }\n",
              "\n",
              "    .dataframe thead th {\n",
              "        text-align: right;\n",
              "    }\n",
              "</style>\n",
              "<table border=\"1\" class=\"dataframe\">\n",
              "  <thead>\n",
              "    <tr style=\"text-align: right;\">\n",
              "      <th></th>\n",
              "      <th>Date</th>\n",
              "      <th>Open</th>\n",
              "      <th>High</th>\n",
              "      <th>Low</th>\n",
              "      <th>Close</th>\n",
              "      <th>Volume</th>\n",
              "      <th>Dividend</th>\n",
              "      <th>Split</th>\n",
              "      <th>Adj_Open</th>\n",
              "      <th>Adj_High</th>\n",
              "      <th>Adj_Low</th>\n",
              "      <th>Adj_Close</th>\n",
              "      <th>Adj_Volume</th>\n",
              "    </tr>\n",
              "  </thead>\n",
              "  <tbody>\n",
              "    <tr>\n",
              "      <th>0</th>\n",
              "      <td>2017-12-28</td>\n",
              "      <td>171.00</td>\n",
              "      <td>171.850</td>\n",
              "      <td>170.480</td>\n",
              "      <td>171.080</td>\n",
              "      <td>16480187.0</td>\n",
              "      <td>0.0</td>\n",
              "      <td>1.0</td>\n",
              "      <td>41.136972</td>\n",
              "      <td>41.341454</td>\n",
              "      <td>41.011877</td>\n",
              "      <td>41.156217</td>\n",
              "      <td>65920748.0</td>\n",
              "    </tr>\n",
              "    <tr>\n",
              "      <th>1</th>\n",
              "      <td>2017-12-27</td>\n",
              "      <td>170.10</td>\n",
              "      <td>170.780</td>\n",
              "      <td>169.710</td>\n",
              "      <td>170.600</td>\n",
              "      <td>21498213.0</td>\n",
              "      <td>0.0</td>\n",
              "      <td>1.0</td>\n",
              "      <td>40.920461</td>\n",
              "      <td>41.084047</td>\n",
              "      <td>40.826640</td>\n",
              "      <td>41.040745</td>\n",
              "      <td>85992852.0</td>\n",
              "    </tr>\n",
              "    <tr>\n",
              "      <th>2</th>\n",
              "      <td>2017-12-26</td>\n",
              "      <td>170.80</td>\n",
              "      <td>171.470</td>\n",
              "      <td>169.679</td>\n",
              "      <td>170.570</td>\n",
              "      <td>33185536.0</td>\n",
              "      <td>0.0</td>\n",
              "      <td>1.0</td>\n",
              "      <td>41.088858</td>\n",
              "      <td>41.250038</td>\n",
              "      <td>40.819183</td>\n",
              "      <td>41.033528</td>\n",
              "      <td>132742144.0</td>\n",
              "    </tr>\n",
              "    <tr>\n",
              "      <th>3</th>\n",
              "      <td>2017-12-22</td>\n",
              "      <td>174.68</td>\n",
              "      <td>175.424</td>\n",
              "      <td>174.500</td>\n",
              "      <td>175.010</td>\n",
              "      <td>16349444.0</td>\n",
              "      <td>0.0</td>\n",
              "      <td>1.0</td>\n",
              "      <td>42.022259</td>\n",
              "      <td>42.201241</td>\n",
              "      <td>41.978957</td>\n",
              "      <td>42.101646</td>\n",
              "      <td>65397776.0</td>\n",
              "    </tr>\n",
              "    <tr>\n",
              "      <th>4</th>\n",
              "      <td>2017-12-21</td>\n",
              "      <td>174.17</td>\n",
              "      <td>176.020</td>\n",
              "      <td>174.100</td>\n",
              "      <td>175.010</td>\n",
              "      <td>20949896.0</td>\n",
              "      <td>0.0</td>\n",
              "      <td>1.0</td>\n",
              "      <td>41.899570</td>\n",
              "      <td>42.344619</td>\n",
              "      <td>41.882730</td>\n",
              "      <td>42.101646</td>\n",
              "      <td>83799584.0</td>\n",
              "    </tr>\n",
              "    <tr>\n",
              "      <th>...</th>\n",
              "      <td>...</td>\n",
              "      <td>...</td>\n",
              "      <td>...</td>\n",
              "      <td>...</td>\n",
              "      <td>...</td>\n",
              "      <td>...</td>\n",
              "      <td>...</td>\n",
              "      <td>...</td>\n",
              "      <td>...</td>\n",
              "      <td>...</td>\n",
              "      <td>...</td>\n",
              "      <td>...</td>\n",
              "      <td>...</td>\n",
              "    </tr>\n",
              "    <tr>\n",
              "      <th>1085</th>\n",
              "      <td>2013-09-09</td>\n",
              "      <td>505.00</td>\n",
              "      <td>507.920</td>\n",
              "      <td>503.480</td>\n",
              "      <td>506.170</td>\n",
              "      <td>12167400.0</td>\n",
              "      <td>0.0</td>\n",
              "      <td>1.0</td>\n",
              "      <td>15.996600</td>\n",
              "      <td>16.089095</td>\n",
              "      <td>15.948451</td>\n",
              "      <td>16.033661</td>\n",
              "      <td>340687200.0</td>\n",
              "    </tr>\n",
              "    <tr>\n",
              "      <th>1086</th>\n",
              "      <td>2013-09-06</td>\n",
              "      <td>498.44</td>\n",
              "      <td>499.380</td>\n",
              "      <td>489.950</td>\n",
              "      <td>498.220</td>\n",
              "      <td>12840200.0</td>\n",
              "      <td>0.0</td>\n",
              "      <td>1.0</td>\n",
              "      <td>15.788802</td>\n",
              "      <td>15.818578</td>\n",
              "      <td>15.519869</td>\n",
              "      <td>15.781833</td>\n",
              "      <td>359525600.0</td>\n",
              "    </tr>\n",
              "    <tr>\n",
              "      <th>1087</th>\n",
              "      <td>2013-09-05</td>\n",
              "      <td>500.25</td>\n",
              "      <td>500.680</td>\n",
              "      <td>493.640</td>\n",
              "      <td>495.270</td>\n",
              "      <td>8441700.0</td>\n",
              "      <td>0.0</td>\n",
              "      <td>1.0</td>\n",
              "      <td>15.846136</td>\n",
              "      <td>15.859757</td>\n",
              "      <td>15.636755</td>\n",
              "      <td>15.688388</td>\n",
              "      <td>236367600.0</td>\n",
              "    </tr>\n",
              "    <tr>\n",
              "      <th>1088</th>\n",
              "      <td>2013-09-04</td>\n",
              "      <td>499.56</td>\n",
              "      <td>502.240</td>\n",
              "      <td>496.280</td>\n",
              "      <td>498.691</td>\n",
              "      <td>12322600.0</td>\n",
              "      <td>0.0</td>\n",
              "      <td>1.0</td>\n",
              "      <td>15.824280</td>\n",
              "      <td>15.909173</td>\n",
              "      <td>15.720381</td>\n",
              "      <td>15.796753</td>\n",
              "      <td>345032800.0</td>\n",
              "    </tr>\n",
              "    <tr>\n",
              "      <th>1089</th>\n",
              "      <td>2013-09-03</td>\n",
              "      <td>493.10</td>\n",
              "      <td>500.600</td>\n",
              "      <td>487.350</td>\n",
              "      <td>488.580</td>\n",
              "      <td>11854600.0</td>\n",
              "      <td>0.0</td>\n",
              "      <td>1.0</td>\n",
              "      <td>15.619650</td>\n",
              "      <td>15.857223</td>\n",
              "      <td>15.437510</td>\n",
              "      <td>15.476472</td>\n",
              "      <td>331928800.0</td>\n",
              "    </tr>\n",
              "  </tbody>\n",
              "</table>\n",
              "<p>1090 rows × 13 columns</p>\n",
              "</div>"
            ],
            "text/plain": [
              "            Date    Open     High  ...    Adj_Low  Adj_Close   Adj_Volume\n",
              "0     2017-12-28  171.00  171.850  ...  41.011877  41.156217   65920748.0\n",
              "1     2017-12-27  170.10  170.780  ...  40.826640  41.040745   85992852.0\n",
              "2     2017-12-26  170.80  171.470  ...  40.819183  41.033528  132742144.0\n",
              "3     2017-12-22  174.68  175.424  ...  41.978957  42.101646   65397776.0\n",
              "4     2017-12-21  174.17  176.020  ...  41.882730  42.101646   83799584.0\n",
              "...          ...     ...      ...  ...        ...        ...          ...\n",
              "1085  2013-09-09  505.00  507.920  ...  15.948451  16.033661  340687200.0\n",
              "1086  2013-09-06  498.44  499.380  ...  15.519869  15.781833  359525600.0\n",
              "1087  2013-09-05  500.25  500.680  ...  15.636755  15.688388  236367600.0\n",
              "1088  2013-09-04  499.56  502.240  ...  15.720381  15.796753  345032800.0\n",
              "1089  2013-09-03  493.10  500.600  ...  15.437510  15.476472  331928800.0\n",
              "\n",
              "[1090 rows x 13 columns]"
            ]
          },
          "metadata": {
            "tags": []
          },
          "execution_count": 12
        }
      ]
    },
    {
      "cell_type": "code",
      "metadata": {
        "id": "slFHW5NdRhlb"
      },
      "source": [
        "df1.drop(labels=None, axis=0, index=None, columns= ['Date','Open','High','Low','Close','Volume','Dividend','Split'], level=None, inplace=True)"
      ],
      "execution_count": 13,
      "outputs": []
    },
    {
      "cell_type": "code",
      "metadata": {
        "id": "vrXbtTFOS-It"
      },
      "source": [
        "df1['HL_PCT'] = (df1['Adj_High'] - df1['Adj_Low'])/df1['Adj_Close']*100.0"
      ],
      "execution_count": 14,
      "outputs": []
    },
    {
      "cell_type": "code",
      "metadata": {
        "id": "5RcRwS6rTAot"
      },
      "source": [
        "df1['PCT_change'] = (df1['Adj_Close'] - df1['Adj_Open'])/df1['Adj_Open']*100.0"
      ],
      "execution_count": 15,
      "outputs": []
    },
    {
      "cell_type": "code",
      "metadata": {
        "id": "YcAGyTuYTDC5"
      },
      "source": [
        "df1.drop(labels=None, axis=0, index=None, columns= ['Adj_High','Adj_Low','Adj_Open'], level=None, inplace=True)"
      ],
      "execution_count": 16,
      "outputs": []
    },
    {
      "cell_type": "code",
      "metadata": {
        "colab": {
          "base_uri": "https://localhost:8080/",
          "height": 419
        },
        "id": "JUFkqfNxTFjr",
        "outputId": "d9614430-aad9-41c1-b759-30d64aa31c72"
      },
      "source": [
        "df1.fillna(value = -99999)"
      ],
      "execution_count": 17,
      "outputs": [
        {
          "output_type": "execute_result",
          "data": {
            "text/html": [
              "<div>\n",
              "<style scoped>\n",
              "    .dataframe tbody tr th:only-of-type {\n",
              "        vertical-align: middle;\n",
              "    }\n",
              "\n",
              "    .dataframe tbody tr th {\n",
              "        vertical-align: top;\n",
              "    }\n",
              "\n",
              "    .dataframe thead th {\n",
              "        text-align: right;\n",
              "    }\n",
              "</style>\n",
              "<table border=\"1\" class=\"dataframe\">\n",
              "  <thead>\n",
              "    <tr style=\"text-align: right;\">\n",
              "      <th></th>\n",
              "      <th>Adj_Close</th>\n",
              "      <th>Adj_Volume</th>\n",
              "      <th>HL_PCT</th>\n",
              "      <th>PCT_change</th>\n",
              "    </tr>\n",
              "  </thead>\n",
              "  <tbody>\n",
              "    <tr>\n",
              "      <th>0</th>\n",
              "      <td>41.156217</td>\n",
              "      <td>65920748.0</td>\n",
              "      <td>0.800795</td>\n",
              "      <td>0.046784</td>\n",
              "    </tr>\n",
              "    <tr>\n",
              "      <th>1</th>\n",
              "      <td>41.040745</td>\n",
              "      <td>85992852.0</td>\n",
              "      <td>0.627198</td>\n",
              "      <td>0.293945</td>\n",
              "    </tr>\n",
              "    <tr>\n",
              "      <th>2</th>\n",
              "      <td>41.033528</td>\n",
              "      <td>132742144.0</td>\n",
              "      <td>1.050009</td>\n",
              "      <td>-0.134660</td>\n",
              "    </tr>\n",
              "    <tr>\n",
              "      <th>3</th>\n",
              "      <td>42.101646</td>\n",
              "      <td>65397776.0</td>\n",
              "      <td>0.527970</td>\n",
              "      <td>0.188917</td>\n",
              "    </tr>\n",
              "    <tr>\n",
              "      <th>4</th>\n",
              "      <td>42.101646</td>\n",
              "      <td>83799584.0</td>\n",
              "      <td>1.097080</td>\n",
              "      <td>0.482287</td>\n",
              "    </tr>\n",
              "    <tr>\n",
              "      <th>...</th>\n",
              "      <td>...</td>\n",
              "      <td>...</td>\n",
              "      <td>...</td>\n",
              "      <td>...</td>\n",
              "    </tr>\n",
              "    <tr>\n",
              "      <th>1085</th>\n",
              "      <td>16.033661</td>\n",
              "      <td>340687200.0</td>\n",
              "      <td>0.877176</td>\n",
              "      <td>0.231683</td>\n",
              "    </tr>\n",
              "    <tr>\n",
              "      <th>1086</th>\n",
              "      <td>15.781833</td>\n",
              "      <td>359525600.0</td>\n",
              "      <td>1.892738</td>\n",
              "      <td>-0.044138</td>\n",
              "    </tr>\n",
              "    <tr>\n",
              "      <th>1087</th>\n",
              "      <td>15.688388</td>\n",
              "      <td>236367600.0</td>\n",
              "      <td>1.421447</td>\n",
              "      <td>-0.995502</td>\n",
              "    </tr>\n",
              "    <tr>\n",
              "      <th>1088</th>\n",
              "      <td>15.796753</td>\n",
              "      <td>345032800.0</td>\n",
              "      <td>1.195129</td>\n",
              "      <td>-0.173953</td>\n",
              "    </tr>\n",
              "    <tr>\n",
              "      <th>1089</th>\n",
              "      <td>15.476472</td>\n",
              "      <td>331928800.0</td>\n",
              "      <td>2.711941</td>\n",
              "      <td>-0.916650</td>\n",
              "    </tr>\n",
              "  </tbody>\n",
              "</table>\n",
              "<p>1090 rows × 4 columns</p>\n",
              "</div>"
            ],
            "text/plain": [
              "      Adj_Close   Adj_Volume    HL_PCT  PCT_change\n",
              "0     41.156217   65920748.0  0.800795    0.046784\n",
              "1     41.040745   85992852.0  0.627198    0.293945\n",
              "2     41.033528  132742144.0  1.050009   -0.134660\n",
              "3     42.101646   65397776.0  0.527970    0.188917\n",
              "4     42.101646   83799584.0  1.097080    0.482287\n",
              "...         ...          ...       ...         ...\n",
              "1085  16.033661  340687200.0  0.877176    0.231683\n",
              "1086  15.781833  359525600.0  1.892738   -0.044138\n",
              "1087  15.688388  236367600.0  1.421447   -0.995502\n",
              "1088  15.796753  345032800.0  1.195129   -0.173953\n",
              "1089  15.476472  331928800.0  2.711941   -0.916650\n",
              "\n",
              "[1090 rows x 4 columns]"
            ]
          },
          "metadata": {
            "tags": []
          },
          "execution_count": 17
        }
      ]
    },
    {
      "cell_type": "code",
      "metadata": {
        "id": "XvrByI-rTH5Z"
      },
      "source": [
        "import sklearn\r\n",
        "from sklearn.model_selection import train_test_split"
      ],
      "execution_count": 18,
      "outputs": []
    },
    {
      "cell_type": "code",
      "metadata": {
        "id": "AU7wtmcyU5VI"
      },
      "source": [
        "feature_cols = ['Adj_Close','Adj_Volume','HL_PCT','PCT_change']\r\n",
        "X = df1[feature_cols]\r\n",
        "Y = df1['PCT_change']\r\n",
        "X_train, X_test, Y_train, Y_test = train_test_split(X,Y)"
      ],
      "execution_count": 19,
      "outputs": []
    },
    {
      "cell_type": "code",
      "metadata": {
        "id": "OnneihSXU7mb"
      },
      "source": [
        "from sklearn.linear_model import LinearRegression"
      ],
      "execution_count": 20,
      "outputs": []
    },
    {
      "cell_type": "code",
      "metadata": {
        "id": "ObikKIqwU-5R"
      },
      "source": [
        "linreg = LinearRegression()"
      ],
      "execution_count": 21,
      "outputs": []
    },
    {
      "cell_type": "code",
      "metadata": {
        "colab": {
          "base_uri": "https://localhost:8080/"
        },
        "id": "nnVNbEW5VBVb",
        "outputId": "99b47704-bba1-4746-a7a3-60676571394d"
      },
      "source": [
        "linreg.fit(X_train, Y_train)"
      ],
      "execution_count": 22,
      "outputs": [
        {
          "output_type": "execute_result",
          "data": {
            "text/plain": [
              "LinearRegression(copy_X=True, fit_intercept=True, n_jobs=None, normalize=False)"
            ]
          },
          "metadata": {
            "tags": []
          },
          "execution_count": 22
        }
      ]
    },
    {
      "cell_type": "code",
      "metadata": {
        "id": "qc03AxLlVFVU"
      },
      "source": [
        "Y_pred = linreg.predict(X_test)"
      ],
      "execution_count": 23,
      "outputs": []
    },
    {
      "cell_type": "code",
      "metadata": {
        "id": "WfWXeT9jXuFU"
      },
      "source": [
        "from sklearn import metrics"
      ],
      "execution_count": 24,
      "outputs": []
    },
    {
      "cell_type": "code",
      "metadata": {
        "colab": {
          "base_uri": "https://localhost:8080/"
        },
        "id": "bfBKQPhVXxDy",
        "outputId": "41f0f102-94e8-4043-caa0-0ddd81b953f3"
      },
      "source": [
        "print(metrics.mean_squared_error(Y_test, Y_pred))"
      ],
      "execution_count": 25,
      "outputs": [
        {
          "output_type": "stream",
          "text": [
            "7.7159217981584245e-31\n"
          ],
          "name": "stdout"
        }
      ]
    },
    {
      "cell_type": "code",
      "metadata": {
        "id": "VhManN11X0nH"
      },
      "source": [
        ""
      ],
      "execution_count": null,
      "outputs": []
    }
  ]
}